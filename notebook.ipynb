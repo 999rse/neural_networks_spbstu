{
 "cells": [
  {
   "attachments": {},
   "cell_type": "markdown",
   "metadata": {},
   "source": [
    "### Import libraries and packages"
   ]
  },
  {
   "cell_type": "code",
   "execution_count": null,
   "metadata": {},
   "outputs": [],
   "source": [
    "import numpy as np\n",
    "import pandas as pd\n",
    "import matplotlib.pyplot as plt\n",
    "import torch\n",
    "import torchvision\n",
    "import torchvision.transforms as transforms\n",
    "import torchmetrics\n",
    "\n",
    "import random\n",
    "import os"
   ]
  },
  {
   "cell_type": "code",
   "execution_count": null,
   "metadata": {},
   "outputs": [],
   "source": [
    "from sklearn.model_selection import train_test_split\n",
    "from sklearn.metrics import r2_score\n",
    "\n",
    "from torchvision.datasets import CIFAR10, CIFAR100"
   ]
  },
  {
   "attachments": {},
   "cell_type": "markdown",
   "metadata": {},
   "source": [
    "#### Seeds"
   ]
  },
  {
   "cell_type": "code",
   "execution_count": null,
   "metadata": {},
   "outputs": [],
   "source": [
    "torch.manual_seed(4)\n",
    "torch.cuda.manual_seed(4)\n",
    "\n",
    "random.seed(4)\n",
    "np.random.seed(4)"
   ]
  },
  {
   "attachments": {},
   "cell_type": "markdown",
   "metadata": {},
   "source": [
    "#### Cuda"
   ]
  },
  {
   "cell_type": "code",
   "execution_count": null,
   "metadata": {},
   "outputs": [],
   "source": [
    "device = \"cuda\" if torch.cuda.is_available() else \"cpu\""
   ]
  },
  {
   "attachments": {},
   "cell_type": "markdown",
   "metadata": {},
   "source": [
    "### Work with data"
   ]
  },
  {
   "attachments": {},
   "cell_type": "markdown",
   "metadata": {},
   "source": [
    "#### Upload"
   ]
  },
  {
   "cell_type": "code",
   "execution_count": null,
   "metadata": {},
   "outputs": [],
   "source": [
    "data_dir = './data/'"
   ]
  },
  {
   "attachments": {},
   "cell_type": "markdown",
   "metadata": {},
   "source": [
    "##### Task 4.1"
   ]
  },
  {
   "cell_type": "code",
   "execution_count": null,
   "metadata": {},
   "outputs": [],
   "source": [
    "X_train = pd.read_csv(os.path.join(data_dir,'xtrain.csv'), header=None) \n",
    "Y_train = pd.read_csv(os.path.join(data_dir,'ytrain.csv'), header=None) \n",
    "X_test = pd.read_csv(os.path.join(data_dir,'xtest.csv'), header=None) \n",
    "Y_test = pd.read_csv(os.path.join(data_dir,'ytest.csv'), header=None) "
   ]
  },
  {
   "cell_type": "code",
   "execution_count": null,
   "metadata": {},
   "outputs": [],
   "source": [
    "# Run 1 time\n",
    "# convert to torch.tensor\n",
    "print(\"Type before:\", type(X_train), type(X_test), type(Y_train), type(Y_test))\n",
    "X_train = torch.tensor(X_train.values)\n",
    "X_test = torch.tensor(X_test.values)\n",
    "Y_train = torch.tensor(Y_train.values)\n",
    "Y_test = torch.tensor(Y_test.values)\n",
    "print(\"Type after:\", type(X_train), type(X_test), type(Y_train), type(Y_test))"
   ]
  },
  {
   "attachments": {},
   "cell_type": "markdown",
   "metadata": {},
   "source": [
    "##### Task 4.2"
   ]
  },
  {
   "cell_type": "code",
   "execution_count": null,
   "metadata": {},
   "outputs": [],
   "source": [
    "url = 'http://archive.ics.uci.edu/ml/machine-learning-databases/auto-mpg/auto-mpg.data'\n",
    "column_names = ['MPG', 'Cylinders', 'Displacement', 'Horsepower', 'Weight',\n",
    "                'Acceleration', 'Model Year', 'Origin']\n",
    "\n",
    "raw_dataset = pd.read_csv(url, names=column_names,\n",
    "                          na_values='?', comment='\\t',\n",
    "                          sep=' ', skipinitialspace=True)"
   ]
  },
  {
   "cell_type": "code",
   "execution_count": null,
   "metadata": {},
   "outputs": [],
   "source": [
    "raw_dataset.dropna(inplace=True)\n",
    "dataset = raw_dataset.copy()\n",
    "#dataset['Origin'] = dataset['Origin'].map({1: 'USA', 2: 'Europe', 3: 'Japan'})\n",
    "#dataset = pd.get_dummies(dataset, columns=['Origin'], prefix='', prefix_sep='')"
   ]
  },
  {
   "cell_type": "code",
   "execution_count": null,
   "metadata": {},
   "outputs": [],
   "source": [
    "X_train, X_test, y_train, y_test = train_test_split(dataset.iloc[:,1:dataset.shape[1]], dataset.iloc[:,0], train_size=0.8, random_state=42, shuffle=True)"
   ]
  },
  {
   "cell_type": "code",
   "execution_count": null,
   "metadata": {},
   "outputs": [],
   "source": [
    "# Run 1 time\n",
    "# convert to torch.tensor\n",
    "print(\"Type before:\", type(X_train), type(X_test), type(y_train), type(y_test))\n",
    "X_train = torch.tensor(X_train.values)\n",
    "X_test = torch.tensor(X_test.values)\n",
    "y_train = torch.tensor(y_train.values)\n",
    "y_test = torch.tensor(y_test.values)\n",
    "print(\"Type after:\", type(X_train), type(X_test), type(y_train), type(y_test))"
   ]
  },
  {
   "attachments": {},
   "cell_type": "markdown",
   "metadata": {},
   "source": [
    "##### Task 4.3"
   ]
  },
  {
   "attachments": {},
   "cell_type": "markdown",
   "metadata": {},
   "source": [
    "This task include 2 models:\n",
    "+ For CIFAR-10\n",
    "+ For CIFAR-100\n",
    "\n",
    "Before training, please download CIFAR-10 or CIFAR-100"
   ]
  },
  {
   "cell_type": "code",
   "execution_count": null,
   "metadata": {},
   "outputs": [],
   "source": [
    "transform = transforms.Compose(\n",
    "    [transforms.ToTensor(), \n",
    "    transforms.Normalize((0.5, 0.5, 0.5), (0.5, 0.5, 0.5)),\n",
    "    transforms.RandomHorizontalFlip(0.5),\n",
    "    transforms.RandomVerticalFlip(0.5)])\n",
    "\n",
    "batch_size = 20\n",
    "\n",
    "trainset = CIFAR10(root='./data', train=True,\n",
    "                                        download=True, transform=transform)\n",
    "trainloader = torch.utils.data.DataLoader(trainset, batch_size=batch_size,\n",
    "                                          shuffle=True, num_workers=12)\n",
    "\n",
    "testset = CIFAR10(root='./data', train=False,\n",
    "                                       download=True, transform=transform)\n",
    "testloader = torch.utils.data.DataLoader(testset, batch_size=batch_size,\n",
    "                                         shuffle=False, num_workers=12)\n",
    "\n",
    "classes = trainset.classes"
   ]
  },
  {
   "attachments": {},
   "cell_type": "markdown",
   "metadata": {},
   "source": [
    "#### Visualization"
   ]
  },
  {
   "attachments": {},
   "cell_type": "markdown",
   "metadata": {},
   "source": [
    "##### Task 4.1"
   ]
  },
  {
   "cell_type": "code",
   "execution_count": null,
   "metadata": {},
   "outputs": [],
   "source": [
    "X_train.hist(figsize=(14,10))"
   ]
  },
  {
   "cell_type": "code",
   "execution_count": null,
   "metadata": {},
   "outputs": [],
   "source": [
    "X_test.hist(figsize=(14,10))"
   ]
  },
  {
   "attachments": {},
   "cell_type": "markdown",
   "metadata": {},
   "source": [
    "##### Task 4.2"
   ]
  },
  {
   "cell_type": "code",
   "execution_count": null,
   "metadata": {},
   "outputs": [],
   "source": [
    "raw_dataset.hist(figsize=(14,10))"
   ]
  },
  {
   "attachments": {},
   "cell_type": "markdown",
   "metadata": {},
   "source": [
    "##### Task 4.3"
   ]
  },
  {
   "cell_type": "code",
   "execution_count": null,
   "metadata": {},
   "outputs": [],
   "source": [
    "def imshow(img):\n",
    "    img = img / 2 + 0.5     # unnormalize\n",
    "    npimg = img.numpy()\n",
    "    plt.imshow(np.transpose(npimg, (1, 2, 0)))\n",
    "    plt.show()"
   ]
  },
  {
   "cell_type": "code",
   "execution_count": null,
   "metadata": {},
   "outputs": [],
   "source": [
    "# get some random training images\n",
    "dataiter = iter(trainloader)\n",
    "images, labels = next(dataiter)\n",
    "\n",
    "# show images\n",
    "imshow(torchvision.utils.make_grid(images))\n",
    "# print labels\n",
    "print(' '.join(f'{classes[labels[j]]:5s}' for j in range(batch_size)))"
   ]
  },
  {
   "attachments": {},
   "cell_type": "markdown",
   "metadata": {},
   "source": [
    "### Creating class of models for task 4.1"
   ]
  },
  {
   "attachments": {},
   "cell_type": "markdown",
   "metadata": {},
   "source": [
    "#### Functions"
   ]
  },
  {
   "cell_type": "code",
   "execution_count": null,
   "metadata": {},
   "outputs": [],
   "source": [
    "def accuracy_fn(y_true, y_pred):\n",
    "    correct = torch.eq(y_true, y_pred).sum().item() # torch.eq() calculates where two tensors are equal\n",
    "    acc = (correct / len(y_pred))*100\n",
    "    return acc"
   ]
  },
  {
   "attachments": {},
   "cell_type": "markdown",
   "metadata": {},
   "source": [
    "#### Model 1"
   ]
  },
  {
   "cell_type": "code",
   "execution_count": null,
   "metadata": {},
   "outputs": [],
   "source": [
    "class ModelNet1(torch.nn.Module):\n",
    "    \"\"\"\n",
    "    This class construct model.\n",
    "    \"\"\"\n",
    "    def __init__(self, input_features):\n",
    "        super().__init__()\n",
    "        self.layers_stack = torch.nn.Sequential(\n",
    "            torch.nn.Linear(in_features=input_features, out_features=16, dtype=float),\n",
    "            torch.nn.ReLU(),\n",
    "            torch.nn.Linear(in_features=16, out_features=8, dtype=float),\n",
    "            torch.nn.ReLU(),\n",
    "            torch.nn.Linear(in_features=8, out_features=6, dtype=float),\n",
    "            torch.nn.ReLU(),\n",
    "            torch.nn.Linear(in_features=6, out_features=1, dtype=float),\n",
    "            #torch.nn.Sigmoid()\n",
    "        )\n",
    "    \n",
    "    def forward(self, x):\n",
    "        return self.layers_stack(x)\n",
    "    \n",
    "\n",
    "model_net1 = ModelNet1(input_features=30).to(device)"
   ]
  },
  {
   "cell_type": "code",
   "execution_count": null,
   "metadata": {},
   "outputs": [],
   "source": [
    "loss = torch.nn.BCEWithLogitsLoss()\n",
    "optimizer = torch.optim.Adam(model_net1.parameters(), lr=1.00e-3)"
   ]
  },
  {
   "cell_type": "code",
   "execution_count": null,
   "metadata": {},
   "outputs": [],
   "source": [
    "test_acc_history = []\n",
    "test_loss_history = []\n",
    "train_acc_history = []\n",
    "train_loss_history = []\n",
    "\n",
    "X_train, Y_train = X_train.to(device), Y_train.to(device)\n",
    "X_test, Y_test = X_test.to(device), Y_test.to(device)\n",
    "\n",
    "for epoch in range(1000):\n",
    "    optimizer.zero_grad()\n",
    "    model_net1.train()\n",
    "\n",
    "    y_logits = model_net1(X_train)\n",
    "    y_pred = torch.round(torch.sigmoid(y_logits))\n",
    "    loss = torch.nn.BCEWithLogitsLoss()(y_logits, Y_train)\n",
    "    acc = accuracy_fn(y_true=Y_train, y_pred=y_pred)\n",
    "    #acc = (y_pred.argmax() == Y_train).float().mean().data.cpu()\n",
    "    \n",
    "    train_acc_history.append(acc)\n",
    "    train_loss_history.append(loss)\n",
    "\n",
    "    \n",
    "    loss.backward()\n",
    "    optimizer.step()\n",
    "\n",
    "    model_net1.eval()\n",
    "    with torch.inference_mode():\n",
    "        # 1. Forward pass\n",
    "        test_logits = model_net1(X_test)\n",
    "        test_pred = torch.round(torch.sigmoid(test_logits))\n",
    "        # 2. Caculate loss/accuracy\n",
    "        test_loss = torch.nn.BCEWithLogitsLoss()(test_logits, Y_test)\n",
    "        test_acc = accuracy_fn(y_true=Y_test, y_pred=test_pred)\n",
    "        #test_acc = (test_pred.argmax() == Y_test).float().mean().data.cpu()\n",
    "\n",
    "        test_acc_history.append(test_acc)\n",
    "        test_loss_history.append(test_loss)\n",
    "    \n",
    "    #print(f'Train acc {acc:.5f}, Test acc {test_acc:.5f}')\n",
    "    if epoch % 10 == 0:\n",
    "        print(f\"Epoch: {epoch} | Train loss: {loss:.5f}, Train acc: {acc:.5f}% | Test loss: {test_loss:.5f}, Test acc: {test_acc:.5f}%\")\n"
   ]
  },
  {
   "attachments": {},
   "cell_type": "markdown",
   "metadata": {},
   "source": [
    "#### Model 2"
   ]
  },
  {
   "cell_type": "code",
   "execution_count": null,
   "metadata": {},
   "outputs": [],
   "source": [
    "class ModelNet2(torch.nn.Module):\n",
    "    \"\"\"\n",
    "    This class construct model.\n",
    "    \"\"\"\n",
    "    def __init__(self, input_features):\n",
    "        super().__init__()\n",
    "        self.layers_stack = torch.nn.Sequential(\n",
    "            torch.nn.Linear(in_features=input_features, out_features=20, dtype=float),\n",
    "            torch.nn.ReLU(),\n",
    "            torch.nn.Linear(in_features=20, out_features=15, dtype=float),\n",
    "            torch.nn.ReLU(),\n",
    "            torch.nn.Linear(in_features=15, out_features=10, dtype=float),\n",
    "            torch.nn.ReLU(),\n",
    "            torch.nn.Linear(in_features=10, out_features=5, dtype=float),\n",
    "            torch.nn.ReLU(),\n",
    "            torch.nn.Linear(in_features=5, out_features=1, dtype=float),\n",
    "            #torch.nn.Sigmoid()\n",
    "        )\n",
    "    \n",
    "    def forward(self, x):\n",
    "        return self.layers_stack(x)\n",
    "    \n",
    "\n",
    "model_net2 = ModelNet2(input_features=30).to(device)"
   ]
  },
  {
   "cell_type": "code",
   "execution_count": null,
   "metadata": {},
   "outputs": [],
   "source": [
    "loss = torch.nn.BCEWithLogitsLoss()\n",
    "optimizer = torch.optim.Adam(model_net2.parameters(), lr=1.00e-3)"
   ]
  },
  {
   "cell_type": "code",
   "execution_count": null,
   "metadata": {},
   "outputs": [],
   "source": [
    "test_acc_history = []\n",
    "test_loss_history = []\n",
    "train_acc_history = []\n",
    "train_loss_history = []\n",
    "\n",
    "X_train, Y_train = X_train.to(device), Y_train.to(device)\n",
    "X_test, Y_test = X_test.to(device), Y_test.to(device)\n",
    "\n",
    "for epoch in range(1000):\n",
    "    optimizer.zero_grad()\n",
    "    model_net2.train()\n",
    "\n",
    "    y_logits = model_net2(X_train)\n",
    "    y_pred = torch.round(torch.sigmoid(y_logits))\n",
    "    loss = torch.nn.BCEWithLogitsLoss()(y_logits, Y_train)\n",
    "    acc = accuracy_fn(y_true=Y_train, y_pred=y_pred)\n",
    "    #acc = (y_pred.argmax() == Y_train).float().mean().data.cpu()\n",
    "    \n",
    "    train_acc_history.append(acc)\n",
    "    train_loss_history.append(loss)\n",
    "\n",
    "    \n",
    "    loss.backward()\n",
    "    optimizer.step()\n",
    "\n",
    "    model_net2.eval()\n",
    "    with torch.inference_mode():\n",
    "        # 1. Forward pass\n",
    "        test_logits = model_net2(X_test)\n",
    "        test_pred = torch.round(torch.sigmoid(test_logits))\n",
    "        # 2. Caculate loss/accuracy\n",
    "        test_loss = torch.nn.BCEWithLogitsLoss()(test_logits, Y_test)\n",
    "        test_acc = accuracy_fn(y_true=Y_test, y_pred=test_pred)\n",
    "        #test_acc = (test_pred.argmax() == Y_test).float().mean().data.cpu()\n",
    "\n",
    "        test_acc_history.append(test_acc)\n",
    "        test_loss_history.append(test_loss)\n",
    "    \n",
    "    #print(f'Train acc {acc:.5f}, Test acc {test_acc:.5f}')\n",
    "    if epoch % 10 == 0:\n",
    "        print(f\"Epoch: {epoch} | Train loss: {loss:.5f}, Train acc: {acc:.5f}% | Test loss: {test_loss:.5f}, Test acc: {test_acc:.5f}%\")\n"
   ]
  },
  {
   "attachments": {},
   "cell_type": "markdown",
   "metadata": {},
   "source": [
    "#### Model 3"
   ]
  },
  {
   "cell_type": "code",
   "execution_count": null,
   "metadata": {},
   "outputs": [],
   "source": [
    "class ModelNet3(torch.nn.Module):\n",
    "    \"\"\"\n",
    "    This class construct model.\n",
    "    \"\"\"\n",
    "    def __init__(self, input_features):\n",
    "        super().__init__()\n",
    "        self.layers_stack = torch.nn.Sequential(\n",
    "            torch.nn.Linear(in_features=input_features, out_features=20, dtype=float),\n",
    "            torch.nn.Tanh(),\n",
    "            torch.nn.Linear(in_features=20, out_features=15, dtype=float),\n",
    "            torch.nn.Tanh(),\n",
    "            torch.nn.Linear(in_features=15, out_features=10, dtype=float),\n",
    "            torch.nn.Tanh(),\n",
    "            torch.nn.Linear(in_features=10, out_features=5, dtype=float),\n",
    "            torch.nn.Tanh(),\n",
    "            torch.nn.Linear(in_features=5, out_features=1, dtype=float),\n",
    "            #torch.nn.Sigmoid()\n",
    "        )\n",
    "    \n",
    "    def forward(self, x):\n",
    "        return self.layers_stack(x)\n",
    "    \n",
    "\n",
    "model_net3 = ModelNet3(input_features=30).to(device)"
   ]
  },
  {
   "cell_type": "code",
   "execution_count": null,
   "metadata": {},
   "outputs": [],
   "source": [
    "loss = torch.nn.BCEWithLogitsLoss()\n",
    "optimizer = torch.optim.SGD(model_net3.parameters(), lr=1.00e-3)"
   ]
  },
  {
   "cell_type": "code",
   "execution_count": null,
   "metadata": {},
   "outputs": [],
   "source": [
    "test_acc_history = []\n",
    "test_loss_history = []\n",
    "train_acc_history = []\n",
    "train_loss_history = []\n",
    "\n",
    "X_train, Y_train = X_train.to(device), Y_train.to(device)\n",
    "X_test, Y_test = X_test.to(device), Y_test.to(device)\n",
    "\n",
    "for epoch in range(1000):\n",
    "    optimizer.zero_grad()\n",
    "    model_net3.train()\n",
    "\n",
    "    y_logits = model_net3(X_train)\n",
    "    y_pred = torch.round(torch.sigmoid(y_logits))\n",
    "    loss = torch.nn.BCEWithLogitsLoss()(y_logits, Y_train)\n",
    "    acc = accuracy_fn(y_true=Y_train, y_pred=y_pred)\n",
    "    #acc = (y_pred.argmax() == Y_train).float().mean().data.cpu()\n",
    "    \n",
    "    train_acc_history.append(acc)\n",
    "    train_loss_history.append(loss)\n",
    "\n",
    "    \n",
    "    loss.backward()\n",
    "    optimizer.step()\n",
    "\n",
    "    model_net3.eval()\n",
    "    with torch.inference_mode():\n",
    "        # 1. Forward pass\n",
    "        test_logits = model_net3(X_test)\n",
    "        test_pred = torch.round(torch.sigmoid(test_logits))\n",
    "        # 2. Caculate loss/accuracy\n",
    "        test_loss = torch.nn.BCEWithLogitsLoss()(test_logits, Y_test)\n",
    "        test_acc = accuracy_fn(y_true=Y_test, y_pred=test_pred)\n",
    "        #test_acc = (test_pred.argmax() == Y_test).float().mean().data.cpu()\n",
    "\n",
    "        test_acc_history.append(test_acc)\n",
    "        test_loss_history.append(test_loss)\n",
    "    \n",
    "    #print(f'Train acc {acc:.5f}, Test acc {test_acc:.5f}')\n",
    "    if epoch % 10 == 0:\n",
    "        print(f\"Epoch: {epoch} | Train loss: {loss:.5f}, Train acc: {acc:.5f}% | Test loss: {test_loss:.5f}, Test acc: {test_acc:.5f}%\")\n"
   ]
  },
  {
   "attachments": {},
   "cell_type": "markdown",
   "metadata": {},
   "source": [
    "#### Visualization"
   ]
  },
  {
   "cell_type": "code",
   "execution_count": null,
   "metadata": {},
   "outputs": [],
   "source": [
    "plt.plot(train_acc_history)\n",
    "plt.plot(test_acc_history)\n",
    "plt.legend(['train_acc', 'test_acc'])\n",
    "plt.title('accuracy')\n",
    "plt.xlabel('epochs')\n",
    "plt.ylabel('accuracy value in %')"
   ]
  },
  {
   "cell_type": "code",
   "execution_count": null,
   "metadata": {},
   "outputs": [],
   "source": [
    "plt.plot(test_loss_history)\n",
    "plt.title('test_loss')\n",
    "plt.xlabel('epochs')\n",
    "plt.ylabel('loss value')"
   ]
  },
  {
   "attachments": {},
   "cell_type": "markdown",
   "metadata": {},
   "source": [
    "### Creating class of model for task 4.2"
   ]
  },
  {
   "attachments": {},
   "cell_type": "markdown",
   "metadata": {},
   "source": [
    "#### Model"
   ]
  },
  {
   "cell_type": "code",
   "execution_count": null,
   "metadata": {},
   "outputs": [],
   "source": [
    "class ModelRegNet(torch.nn.Module):\n",
    "    \"\"\"\n",
    "    This class construct model.\n",
    "    \"\"\"\n",
    "    def __init__(self, input_features):\n",
    "        super().__init__()\n",
    "        self.layers_stack = torch.nn.Sequential(\n",
    "            torch.nn.Linear(in_features=input_features, out_features=17, dtype=float),\n",
    "            torch.nn.ReLU(),\n",
    "            torch.nn.Linear(in_features=17, out_features=13, dtype=float),\n",
    "            torch.nn.ReLU(),\n",
    "            torch.nn.Linear(in_features=13, out_features=10, dtype=float),\n",
    "            torch.nn.ReLU(),\n",
    "            torch.nn.Linear(in_features=10, out_features=6, dtype=float),\n",
    "            torch.nn.ReLU(),\n",
    "            torch.nn.Linear(in_features=6, out_features=1, dtype=float)\n",
    "        )\n",
    "    \n",
    "    def forward(self, x):\n",
    "        return self.layers_stack(x)\n",
    "    \n",
    "modelreg_net = ModelRegNet(input_features=dataset.shape[1] - 1).to(device)"
   ]
  },
  {
   "cell_type": "code",
   "execution_count": null,
   "metadata": {},
   "outputs": [],
   "source": [
    "loss = torch.nn.MSELoss()\n",
    "optimizer = torch.optim.Adam(modelreg_net.parameters(), lr=1.00e-3)"
   ]
  },
  {
   "cell_type": "code",
   "execution_count": null,
   "metadata": {},
   "outputs": [],
   "source": [
    "test_loss_history = []\n",
    "test_acc_history = []\n",
    "\n",
    "train_loss_history = []\n",
    "train_acc_history = []\n",
    "\n",
    "X_train, y_train = X_train.to(device), y_train.to(device)\n",
    "X_test, y_test = X_test.to(device), y_test.to(device)\n",
    "\n",
    "for epoch in range(5000):\n",
    "    optimizer.zero_grad()\n",
    "    modelreg_net.train()\n",
    "\n",
    "    y_pred = modelreg_net(X_train).squeeze()\n",
    "    loss_v = loss(y_pred, y_train)\n",
    "\n",
    "    # Separate part with gradients\n",
    "    loss_v_copy = loss_v.clone()\n",
    "    loss_v_copy = loss_v_copy.detach().numpy()\n",
    "    train_loss_history.append(loss_v_copy)\n",
    "\n",
    "    y_pred_copy = y_pred.clone().detach().numpy()\n",
    "    y_train_copy = y_train.clone().detach().numpy()\n",
    "    train_acc_history.append(r2_score(y_true=y_train_copy, y_pred=y_pred_copy))\n",
    "\n",
    "    loss_v.backward()\n",
    "    optimizer.step()\n",
    "\n",
    "    modelreg_net.eval()\n",
    "    with torch.inference_mode():\n",
    "        # 1. Forward pass\n",
    "        test_pred = modelreg_net(X_test).squeeze()\n",
    "        # 2. Caculate loss/accuracy\n",
    "        loss_v_test = loss(test_pred, y_test)\n",
    "\n",
    "        test_loss_history.append(loss_v_test)\n",
    "        test_acc_history.append(r2_score(y_true=y_test, y_pred=test_pred))\n",
    "    \n",
    "    #print(f'Train acc {acc:.5f}, Test acc {test_acc:.5f}')\n",
    "    if epoch % 10 == 0:\n",
    "        print(f\"Epoch: {epoch} | Train loss: {loss_v:.5f} | Test loss: {loss_v_test:.5f} | \")\n"
   ]
  },
  {
   "attachments": {},
   "cell_type": "markdown",
   "metadata": {},
   "source": [
    "#### Visualization"
   ]
  },
  {
   "cell_type": "code",
   "execution_count": null,
   "metadata": {},
   "outputs": [],
   "source": [
    "plt.plot(train_loss_history)\n",
    "plt.plot(test_loss_history)\n",
    "plt.legend(['train_loss', 'test_loss'])\n",
    "plt.title('test_loss')\n",
    "plt.xlabel('epochs')\n",
    "plt.ylabel('loss value')"
   ]
  },
  {
   "cell_type": "code",
   "execution_count": null,
   "metadata": {},
   "outputs": [],
   "source": [
    "plt.plot(train_acc_history)\n",
    "plt.plot(test_acc_history)\n",
    "plt.legend(['train_acc', 'test_acc'])\n",
    "plt.title('accuracy r2_score')\n",
    "plt.xlabel('epochs')\n",
    "plt.ylabel('accuracy value')"
   ]
  },
  {
   "attachments": {},
   "cell_type": "markdown",
   "metadata": {},
   "source": [
    "### Creating class of model for task 4.3"
   ]
  },
  {
   "attachments": {},
   "cell_type": "markdown",
   "metadata": {},
   "source": [
    "#### Model"
   ]
  },
  {
   "cell_type": "code",
   "execution_count": null,
   "metadata": {},
   "outputs": [],
   "source": [
    "class ClfC10Net(torch.nn.Module):\n",
    "   \n",
    "    def __init__(self):\n",
    "        \n",
    "        super(ClfC10Net, self).__init__()\n",
    "\n",
    "        self.conv_layer = torch.nn.Sequential(\n",
    "\n",
    "            # Conv Layer block 1\n",
    "            torch.nn.Conv2d(in_channels=3, out_channels=32, kernel_size=3, padding=1),\n",
    "            torch.nn.BatchNorm2d(32),\n",
    "            torch.nn.ReLU(inplace=True),\n",
    "            torch.nn.Conv2d(in_channels=32, out_channels=64, kernel_size=3, padding=1),\n",
    "            torch.nn.ReLU(inplace=True),\n",
    "            torch.nn.MaxPool2d(kernel_size=2, stride=2),\n",
    "\n",
    "            # Conv Layer block 2\n",
    "            torch.nn.Conv2d(in_channels=64, out_channels=128, kernel_size=3, padding=1),\n",
    "            torch.nn.BatchNorm2d(128),\n",
    "            torch.nn.ReLU(inplace=True),\n",
    "            torch.nn.Conv2d(in_channels=128, out_channels=128, kernel_size=3, padding=1),\n",
    "            torch.nn.ReLU(inplace=True),\n",
    "            torch.nn.MaxPool2d(kernel_size=2, stride=2),\n",
    "            torch.nn.Dropout2d(p=0.05),\n",
    "\n",
    "            # Conv Layer block 3\n",
    "            torch.nn.Conv2d(in_channels=128, out_channels=256, kernel_size=3, padding=1),\n",
    "            torch.nn.BatchNorm2d(256),\n",
    "            torch.nn.ReLU(inplace=True),\n",
    "            torch.nn.Conv2d(in_channels=256, out_channels=256, kernel_size=3, padding=1),\n",
    "            torch.nn.ReLU(inplace=True),\n",
    "            torch.nn.MaxPool2d(kernel_size=2, stride=2), # 4\n",
    "        )\n",
    "\n",
    "\n",
    "        self.fc_layer = torch.nn.Sequential(\n",
    "            torch.nn.Dropout(p=0.1),\n",
    "            torch.nn.Linear(4096, 1024),\n",
    "            torch.nn.ReLU(inplace=True),\n",
    "            torch.nn.Linear(1024, 512),\n",
    "            torch.nn.ReLU(inplace=True),\n",
    "            torch.nn.Dropout(p=0.1),\n",
    "            torch.nn.Linear(512, 10)\n",
    "        )\n",
    "\n",
    "\n",
    "    def forward(self, x):\n",
    "        \n",
    "        # conv layers\n",
    "        x = self.conv_layer(x)\n",
    "        \n",
    "        # flatten\n",
    "        x = x.view(x.size(0), -1)\n",
    "        \n",
    "        # fc layer\n",
    "        x = self.fc_layer(x)\n",
    "\n",
    "        return x\n",
    "\n",
    "clfc10_net = ClfC10Net().to(device)"
   ]
  },
  {
   "cell_type": "code",
   "execution_count": null,
   "metadata": {},
   "outputs": [],
   "source": [
    "loss = torch.nn.CrossEntropyLoss()\n",
    "optimizer = torch.optim.Adam(clfc10_net.parameters(), lr=1e-4)"
   ]
  },
  {
   "cell_type": "code",
   "execution_count": null,
   "metadata": {},
   "outputs": [],
   "source": [
    "metric_pr = torchmetrics.Precision(task='multiclass', num_classes=10)"
   ]
  },
  {
   "cell_type": "code",
   "execution_count": null,
   "metadata": {},
   "outputs": [],
   "source": [
    "test_loss_history = []\n",
    "test_acc_history = []\n",
    "\n",
    "train_loss_history = []\n",
    "train_acc_history = []\n",
    "\n",
    "telh_ep = []\n",
    "teah_ep = []\n",
    "\n",
    "trlh_ep = []\n",
    "trah_ep = []\n",
    "\n",
    "for epoch in range(100):\n",
    "\n",
    "    running_loss_train = 0\n",
    "    correct_train = 0\n",
    "    total_train = 0\n",
    "\n",
    "    running_loss_test = 0\n",
    "    correct_test = 0\n",
    "    total_test = 0\n",
    "\n",
    "    for i, data in enumerate(trainloader, 0):\n",
    "        clfc10_net.train()\n",
    "        inputs_train, labels_train = data\n",
    "        \n",
    "        optimizer.zero_grad()\n",
    "\n",
    "        pred_train = clfc10_net.forward(inputs_train.to(device))\n",
    "        loss_train = loss(pred_train.to(device), labels_train.to(device))\n",
    "        \n",
    "        loss_train_copy = loss_train.clone().cpu().detach().numpy()\n",
    "        train_loss_history.append(loss_train_copy)\n",
    "\n",
    "        pred_train_copy = pred_train.clone().cpu().detach()\n",
    "        labels_train_copy = labels_train.clone().cpu().detach()\n",
    "\n",
    "        running_loss_train += loss_train_copy.item()\n",
    "\n",
    "        loss_train.backward()\n",
    "        optimizer.step()\n",
    "        _, predicted = pred_train_copy.max(1)\n",
    "\n",
    "        total_train += labels_train_copy.size(0)\n",
    "        correct_train += predicted.eq(labels_train_copy).sum().item()\n",
    "    \n",
    "    acc_train = 100 * correct_train / total_train\n",
    "    train_loss=running_loss_train/len(trainloader)\n",
    "\n",
    "    for i, data in enumerate(testloader, 0):\n",
    "      clfc10_net.eval()\n",
    "      inputs_test, labels_test = data\n",
    "      with torch.no_grad():\n",
    "        pred_test = clfc10_net.forward(inputs_test.to(device))\n",
    "        loss_test = loss(pred_test.to(device), labels_test.to(device))\n",
    "\n",
    "        loss_test_copy = loss_test.clone().cpu().detach().numpy()\n",
    "        test_loss_history.append(loss_test_copy)\n",
    "\n",
    "        pred_test_copy = pred_test.clone().cpu().detach()\n",
    "        labels_test_copy = labels_test.clone().cpu().detach()\n",
    "\n",
    "        running_loss_test += loss_test_copy.item()\n",
    "\n",
    "        _, predicted = pred_test_copy.max(1)\n",
    "        total_test += labels_test_copy.size(0)\n",
    "        correct_test += predicted.eq(labels_test_copy).sum().item()\n",
    "        \n",
    "\n",
    "    acc_test = 100 * correct_test / total_test\n",
    "    test_loss=running_loss_test/len(testloader)\n",
    "\n",
    "    telh_ep.append(test_loss)\n",
    "    trlh_ep.append(train_loss)\n",
    "    \n",
    "    trah_ep.append(acc_train)\n",
    "    teah_ep.append(acc_test)\n",
    "    print(f'------- epoch {epoch + 1} -------')\n",
    "    print(f'loss_train: {train_loss}')\n",
    "    print(f'loss_test: {test_loss}')\n",
    "    print()\n",
    "    print(f'acc_train: {acc_train}')\n",
    "    print(f'acc_test: {acc_test}')"
   ]
  },
  {
   "attachments": {},
   "cell_type": "markdown",
   "metadata": {},
   "source": [
    "#### Model cifar-100"
   ]
  },
  {
   "cell_type": "code",
   "execution_count": null,
   "metadata": {},
   "outputs": [],
   "source": [
    "class ClfC100Net(torch.nn.Module):\n",
    "  \n",
    "    def __init__(self):\n",
    "        \n",
    "        super(ClfC100Net, self).__init__()\n",
    "\n",
    "        self.conv_layer = torch.nn.Sequential(\n",
    "\n",
    "           torch.nn.Conv2d(3, 64, 3, 1, 1), # 32\n",
    "           torch.nn.BatchNorm2d(64),\n",
    "           torch.nn.ReLU(inplace=True),\n",
    "\n",
    "           torch.nn.Conv2d(64, 128, 3, 1, 1), # 32\n",
    "           torch.nn.BatchNorm2d(128),\n",
    "           torch.nn.ReLU(inplace=True),\n",
    "           torch.nn.MaxPool2d(2, 2, 0), # 16\n",
    "\n",
    "           torch.nn.Conv2d(128, 128, 3, 1, 1), # 16\n",
    "           torch.nn.BatchNorm2d(128),\n",
    "           torch.nn.ReLU(inplace=True),\n",
    "\n",
    "           torch.nn.Conv2d(128, 128, 3, 1, 1), # 16\n",
    "           torch.nn.BatchNorm2d(128),\n",
    "           torch.nn.ReLU(inplace=True),\n",
    "\n",
    "           torch.nn.Conv2d(128, 256, 3, 1, 1), # 16\n",
    "           torch.nn.BatchNorm2d(256),\n",
    "           torch.nn.ReLU(inplace=True),\n",
    "           torch.nn.MaxPool2d(2, 2, 0), # 8\n",
    "\n",
    "           torch.nn.Conv2d(256, 512, 3, 1, 1), # 8\n",
    "           torch.nn.BatchNorm2d(512),\n",
    "           torch.nn.ReLU(inplace=True),\n",
    "           torch.nn.MaxPool2d(2, 2, 0), # 4\n",
    "\n",
    "           torch.nn.Conv2d(512, 512, 3, 1, 1), # 8\n",
    "           torch.nn.BatchNorm2d(512),\n",
    "           torch.nn.ReLU(inplace=True),\n",
    "           torch.nn.MaxPool2d(4, 4, 0) # 4\n",
    "        )\n",
    "\n",
    "\n",
    "        self.fc_layer = torch.nn.Sequential(\n",
    "            torch.nn.Flatten(),\n",
    "            torch.nn.Dropout(p=0.1, inplace=False),\n",
    "            torch.nn.Linear(512, 100),\n",
    "        )\n",
    "\n",
    "\n",
    "    def forward(self, x):\n",
    "        \"\"\"Perform forward.\"\"\"\n",
    "        \n",
    "        # conv layers\n",
    "        x = self.conv_layer(x)\n",
    "        \n",
    "        # flatten\n",
    "        x = x.view(x.size(0), -1)\n",
    "        \n",
    "        # fc layer\n",
    "        x = self.fc_layer(x)\n",
    "\n",
    "        return x\n",
    "\n",
    "clfc100_net = ClfC100Net().to(device)"
   ]
  },
  {
   "cell_type": "code",
   "execution_count": null,
   "metadata": {},
   "outputs": [],
   "source": [
    "loss = torch.nn.CrossEntropyLoss()\n",
    "optimizer = torch.optim.Adam(clfc100_net.parameters(), lr=1e-3)"
   ]
  },
  {
   "cell_type": "code",
   "execution_count": null,
   "metadata": {},
   "outputs": [],
   "source": [
    "test_loss_history = []\n",
    "test_acc_history = []\n",
    "\n",
    "train_loss_history = []\n",
    "train_acc_history = []\n",
    "\n",
    "telh_ep = []\n",
    "teah_ep = []\n",
    "\n",
    "trlh_ep = []\n",
    "trah_ep = []\n",
    "\n",
    "for epoch in range(100):\n",
    "\n",
    "    running_loss_train = 0\n",
    "    correct_train = 0\n",
    "    total_train = 0\n",
    "\n",
    "    running_loss_test = 0\n",
    "    correct_test = 0\n",
    "    total_test = 0\n",
    "\n",
    "    for i, data in enumerate(trainloader, 0):\n",
    "        clfc100_net.train()\n",
    "        inputs_train, labels_train = data\n",
    "        \n",
    "        optimizer.zero_grad()\n",
    "\n",
    "        pred_train = clfc100_net.forward(inputs_train.to(device))\n",
    "        loss_train = loss(pred_train.to(device), labels_train.to(device))\n",
    "\n",
    "        loss_train_copy = loss_train.clone().cpu().detach().numpy()\n",
    "        train_loss_history.append(loss_train_copy)\n",
    "\n",
    "        pred_train_copy = pred_train.clone().cpu().detach()\n",
    "        labels_train_copy = labels_train.clone().cpu().detach()\n",
    "\n",
    "        running_loss_train += loss_train_copy.item()\n",
    "\n",
    "        loss_train.backward()\n",
    "        optimizer.step()\n",
    "        _, predicted = pred_train_copy.max(1)\n",
    "\n",
    "        total_train += labels_train_copy.size(0)\n",
    "        correct_train += predicted.eq(labels_train_copy).sum().item()\n",
    "    \n",
    "    acc_train = 100 * correct_train / total_train\n",
    "    train_loss=running_loss_train/len(trainloader)\n",
    "\n",
    "    for i, data in enumerate(testloader, 0):\n",
    "      clfc100_net.eval()\n",
    "      inputs_test, labels_test = data\n",
    "      with torch.no_grad():\n",
    "        pred_test = clfc100_net.forward(inputs_test.to(device))\n",
    "        loss_test = loss(pred_test.to(device), labels_test.to(device))\n",
    "\n",
    "        loss_test_copy = loss_test.clone().cpu().detach().numpy()\n",
    "        test_loss_history.append(loss_test_copy)\n",
    "\n",
    "        pred_test_copy = pred_test.clone().cpu().detach()\n",
    "        labels_test_copy = labels_test.clone().cpu().detach()\n",
    "\n",
    "        running_loss_test += loss_test_copy.item()\n",
    "\n",
    "        _, predicted = pred_test_copy.max(1)\n",
    "        total_test += labels_test_copy.size(0)\n",
    "        correct_test += predicted.eq(labels_test_copy).sum().item()\n",
    "\n",
    "\n",
    "    acc_test = 100 * correct_test / total_test\n",
    "    test_loss=running_loss_test/len(testloader)\n",
    "\n",
    "    telh_ep.append(test_loss)\n",
    "    trlh_ep.append(train_loss)\n",
    "    \n",
    "    trah_ep.append(acc_train)\n",
    "    teah_ep.append(acc_test)\n",
    "    print(f'------- epoch {epoch + 1} -------')\n",
    "    print(f'loss_train: {train_loss}')\n",
    "    print(f'loss_test: {test_loss}')\n",
    "    print()\n",
    "    print(f'acc_train: {acc_train}')\n",
    "    print(f'acc_test: {acc_test}')"
   ]
  },
  {
   "attachments": {},
   "cell_type": "markdown",
   "metadata": {},
   "source": [
    "#### Visualization"
   ]
  },
  {
   "cell_type": "code",
   "execution_count": null,
   "metadata": {},
   "outputs": [],
   "source": [
    "plt.plot(trlh_ep)\n",
    "plt.plot(telh_ep)\n",
    "plt.legend(['train_loss', 'test_loss'])\n",
    "plt.title('loss')\n",
    "plt.xlabel('epochs')\n",
    "plt.ylabel('loss value')"
   ]
  },
  {
   "cell_type": "code",
   "execution_count": null,
   "metadata": {},
   "outputs": [],
   "source": [
    "plt.plot(trah_ep)\n",
    "plt.plot(teah_ep)\n",
    "plt.legend(['train_acc', 'test_acc'])\n",
    "plt.title('accuracy (Precision)')\n",
    "plt.xlabel('epochs')\n",
    "plt.ylabel('acc value')"
   ]
  }
 ],
 "metadata": {
  "kernelspec": {
   "display_name": "Python 3",
   "language": "python",
   "name": "python3"
  },
  "language_info": {
   "codemirror_mode": {
    "name": "ipython",
    "version": 3
   },
   "file_extension": ".py",
   "mimetype": "text/x-python",
   "name": "python",
   "nbconvert_exporter": "python",
   "pygments_lexer": "ipython3",
   "version": "3.10.6"
  },
  "orig_nbformat": 4
 },
 "nbformat": 4,
 "nbformat_minor": 2
}
